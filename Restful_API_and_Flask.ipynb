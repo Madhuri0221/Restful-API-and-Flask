{
  "nbformat": 4,
  "nbformat_minor": 0,
  "metadata": {
    "colab": {
      "provenance": []
    },
    "kernelspec": {
      "name": "python3",
      "display_name": "Python 3"
    },
    "language_info": {
      "name": "python"
    }
  },
  "cells": [
    {
      "cell_type": "markdown",
      "source": [
        "Restful API and Flask - Theory"
      ],
      "metadata": {
        "id": "5zfPPlZHwlK9"
      }
    },
    {
      "cell_type": "code",
      "source": [
        "# 1) What is a RESTful API?\n",
        "\n",
        "\"\"\"\n",
        "A RESTful API (Representational State Transfer API) is a way for systems to\n",
        "communicate over the web using HTTP methods. It's designed to be simple,\n",
        "scalable, and stateless, meaning each request from a client contains all the\n",
        "information the server needs to process it—there’s no stored session between\n",
        "requests\n",
        "\n",
        "Key Features of RESTful APIs:\n",
        "Uses HTTP Methods:\n",
        "\n",
        "GET – Retrieve data\n",
        "POST – Send data to create something\n",
        "PUT – Update data\n",
        "DELETE – Remove data\n",
        "\n",
        "HTTP Request: GET /users/123\n",
        "Response: {\n",
        "  \"id\": 123,\n",
        "  \"name\": \"Madhuri\",\n",
        "  \"email\": \"madhuri@example.com\"\n",
        "}\n",
        "\n",
        "\"\"\""
      ],
      "metadata": {
        "id": "HUBufHp3wo3t"
      },
      "execution_count": null,
      "outputs": []
    },
    {
      "cell_type": "code",
      "source": [
        "# 2) Explain the concept of API specification\n",
        "\n",
        "\"\"\"\n",
        "An API specification defines how an API should function, outlining its endpoints,\n",
        "request and response formats, authentication methods, and other important details.\n",
        "It acts as a blueprint that developers follow when building or consuming the API.\n",
        "\n",
        "Key Components of an API Specification:\n",
        "\n",
        "Base URL – The root address of the API (e.g., https://api.example.com).\n",
        "Endpoints – Specific paths for interacting with resources (e.g., /users, /orders).\n",
        "\n",
        "HTTP Methods – Defines allowed actions:\n",
        "\n",
        "GET → Retrieve data\n",
        "POST → Create data\n",
        "PUT → Update data\n",
        "DELETE → Remove data\n",
        "\n",
        "Request Parameters – Includes:\n",
        "Query Parameters (?search=python)\n",
        "Path Variables (/users/{id})\n",
        "\n",
        "Headers (Authorization: Bearer token)\n",
        "Response Format – Typically in JSON or XML, detailing expected structure.\n",
        "Authentication – Defines security measures like API keys, OAuth, or JWT tokens.\n",
        "Error Handling – Lists common status codes (404 Not Found, 500 Internal Server Error).\n",
        "\n",
        "\"\"\"\n"
      ],
      "metadata": {
        "id": "LAmig2edxufs"
      },
      "execution_count": null,
      "outputs": []
    },
    {
      "cell_type": "code",
      "source": [
        "# 3) What is Flask, and why is it popular for building APIs?\n",
        "\n",
        "\"\"\"\n",
        "Flask is a lightweight Python web framework used to build APIs and web applications.\n",
        "\n",
        "It is popular because:\n",
        "Minimal & Flexible – Gives developers full control over design.\n",
        "Easy to Learn – Simple syntax with quick setup.\n",
        "Supports RESTful APIs – Ideal for building scalable APIs.\n",
        "Built-in Development Server – Makes testing easy.\n",
        "Extensible – Works with plugins like Flask-SQLAlchemy.\n",
        "\n",
        "\"\"\""
      ],
      "metadata": {
        "id": "pPdleF4RySmd"
      },
      "execution_count": null,
      "outputs": []
    },
    {
      "cell_type": "code",
      "source": [
        "# 4) What is routing in Flask?\n",
        "\n",
        "\"\"\"\n",
        "Routing in Flask maps URLs to specific functions, enabling the web server to\n",
        "handle requests dynamically.\n",
        "\n",
        "Defined using @app.route('/path') decorators.\n",
        "Determines what response a user gets for a given URL.\n",
        "Supports dynamic routing with variables like /user/<name>.\n",
        "Handles HTTP methods (GET, POST, etc.).\n",
        "\n",
        "\"\"\""
      ],
      "metadata": {
        "id": "sFE_SXHjynK0"
      },
      "execution_count": null,
      "outputs": []
    },
    {
      "cell_type": "code",
      "source": [
        "# 5)  How do you create a simple Flask application?\n",
        "\n",
        "\"\"\"\n",
        "pip install flask\n",
        "\n",
        "Create a python file:\n",
        "from flask import Flask\n",
        "\n",
        "app = Flask(__name__)\n",
        "\n",
        "@app.route('/')\n",
        "def home():\n",
        "    return \"Hello, Flask!\"\n",
        "\n",
        "if __name__ == '__main__':\n",
        "    app.run(debug=True)\n",
        "\n",
        "Run application: python app.py\n",
        "\n",
        "\"\"\"\n"
      ],
      "metadata": {
        "id": "M7HPuOx004m2"
      },
      "execution_count": null,
      "outputs": []
    },
    {
      "cell_type": "code",
      "source": [
        "# 6) What are HTTP methods used in RESTful APIs?\n",
        "\n",
        "\"\"\"\n",
        "GET – Retrieve data\n",
        "POST – Send data to create something\n",
        "PUT – Update data\n",
        "DELETE – Remove data\n",
        "\n",
        "\"\"\""
      ],
      "metadata": {
        "id": "73RoaFGb1Nqc"
      },
      "execution_count": null,
      "outputs": []
    },
    {
      "cell_type": "code",
      "source": [
        "# 7) What is the purpose of the @app.route() decorator in Flask?\n",
        "\n",
        "\"\"\"\n",
        "The @app.route() decorator in Flask defines URL routes for handling requests.\n",
        "Maps a URL path to a specific function.\n",
        "Supports dynamic routing with placeholders like /user/<name>.\n",
        "Accepts HTTP methods (GET, POST, etc.).\n",
        "Helps create structured web applications.\n",
        "\n",
        "\"\"\""
      ],
      "metadata": {
        "id": "gjpN7k9E1VB1"
      },
      "execution_count": null,
      "outputs": []
    },
    {
      "cell_type": "code",
      "source": [
        "# 8) What is the difference between GET and POST HTTP methods?\n",
        "\n",
        "\"\"\"\n",
        "GET – Used to Retrieve data\n",
        "POST – Send data to create something\n",
        "\n",
        "\"\"\""
      ],
      "metadata": {
        "id": "Bj07CSYm1lYk"
      },
      "execution_count": null,
      "outputs": []
    },
    {
      "cell_type": "code",
      "source": [
        "# 9) How do you handle errors in Flask APIs\n",
        "\n",
        "\"\"\"\n",
        "Flask handles errors using custom error handlers and HTTP status codes.\n",
        "Use @app.errorhandler(code) to define custom responses for errors like 404 or 500.\n",
        "Raise exceptions like abort(404) to trigger HTTP errors.\n",
        "Return structured JSON responses for API errors\n",
        "\n",
        "\"\"\""
      ],
      "metadata": {
        "id": "eCRUUxEb1vlk"
      },
      "execution_count": null,
      "outputs": []
    },
    {
      "cell_type": "code",
      "source": [
        "# 10)  How do you connect Flask to a SQL database?\n",
        "\n",
        "\"\"\"\n",
        "pip install flask-sqlalchemy\n",
        "\n",
        "Configure the database in flask:\n",
        "from flask import Flask\n",
        "from flask_sqlalchemy import SQLAlchemy\n",
        "\n",
        "app = Flask(__name__)\n",
        "app.config['SQLALCHEMY_DATABASE_URI'] = 'sqlite:///mydatabase.db'\n",
        "db = SQLAlchemy(app)\n",
        "\n",
        "\n",
        "Define a Model (Table):\n",
        "class User(db.Model):\n",
        "    id = db.Column(db.Integer, primary_key=True)\n",
        "    name = db.Column(db.String(100))\n",
        "\n",
        "db.create_all()  # Creates the database tables\n",
        "\n",
        "\n",
        "Use the Database (Insert & Query Data):\n",
        "user = User(name=\"Madhuri\")\n",
        "db.session.add(user)\n",
        "db.session.commit()\n",
        "\n",
        "users = User.query.all()\n",
        "print(users)\n",
        "\n",
        "\"\"\"\n"
      ],
      "metadata": {
        "id": "gFtffR7E11jv"
      },
      "execution_count": null,
      "outputs": []
    },
    {
      "cell_type": "code",
      "source": [
        "# 11) What is the role of Flask-SQLAlchemy?\n",
        "\n",
        "\"\"\"\n",
        "Flask-SQLAlchemy integrates SQLAlchemy with Flask, making database management easier.\n",
        "Provides an ORM (Object-Relational Mapping) to interact with databases using Python.\n",
        "Simplifies database connections, queries, and migrations.\n",
        "Supports multiple databases like SQLite, PostgreSQL, and MySQL.\n",
        "Handles relationships, transactions, and query optimizations efficiently.\n",
        "\n",
        "\"\"\""
      ],
      "metadata": {
        "id": "UDuA5bh22jtH"
      },
      "execution_count": null,
      "outputs": []
    },
    {
      "cell_type": "code",
      "source": [
        "# 12) What are Flask blueprints, and how are they useful?\n",
        "\n",
        "\"\"\"\n",
        "Flask Blueprints help structure large applications by modularizing routes, templates,\n",
        "and static files.\n",
        "Allow separate components (e.g., user, admin) to be developed independently.\n",
        "Help organize code for scalability and maintainability.\n",
        "Support reusable code across multiple projects.\n",
        "Make it easier to register routes without cluttering the main app.\n",
        "\n",
        "\"\"\""
      ],
      "metadata": {
        "id": "y8OHtWos23cW"
      },
      "execution_count": null,
      "outputs": []
    },
    {
      "cell_type": "code",
      "source": [
        "# 13) What is the purpose of Flask's request object?\n",
        "\n",
        "\"\"\"\n",
        "Flask's request object is used to access data sent by the client.\n",
        "Handles form data, JSON payloads, and query parameters.\n",
        "Allows retrieval of headers and cookies.\n",
        "Supports file uploads.\n",
        "Helps manage HTTP methods (GET, POST, etc.).\n",
        "\n",
        "\"\"\""
      ],
      "metadata": {
        "id": "ncMBi6Pd3EpE"
      },
      "execution_count": null,
      "outputs": []
    },
    {
      "cell_type": "code",
      "source": [
        "# 14)  How do you create a RESTful API endpoint using Flask?\n",
        "\n",
        "\"\"\"\n",
        "\n",
        "pip install flask\n",
        "\n",
        "Create an API route in Python:\n",
        "from flask import Flask, jsonify\n",
        "\n",
        "app = Flask(__name__)\n",
        "\n",
        "@app.route('/api/data', methods=['GET'])\n",
        "def get_data():\n",
        "    return jsonify({\"message\": \"Hello, API!\"})\n",
        "\n",
        "if __name__ == '__main__':\n",
        "    app.run(debug=True)\n",
        "\n",
        "Run the app and access the endpoint at:\n",
        "http://127.0.0.1:5000/api/data\n",
        "\n",
        "\"\"\""
      ],
      "metadata": {
        "id": "xwRieKSG3RJk"
      },
      "execution_count": null,
      "outputs": []
    },
    {
      "cell_type": "code",
      "source": [
        "# 15) What is the purpose of Flask's jsonify() function?\n",
        "\n",
        "\"\"\"\n",
        "Flask's jsonify() function converts Python dictionaries into JSON responses for APIs.\n",
        "Automatically formats data as JSON.\n",
        "Sets the correct Content-Type header (application/json).\n",
        "Simplifies API responses for clients like browsers or mobile apps.\n",
        "\n",
        "from flask import Flask, jsonify\n",
        "\n",
        "app = Flask(__name__)\n",
        "\n",
        "@app.route('/data')\n",
        "def get_data():\n",
        "    return jsonify({\"message\": \"Hello, Flask!\"})\n",
        "\n",
        "\"\"\""
      ],
      "metadata": {
        "id": "DJw5WlgT3qKl"
      },
      "execution_count": null,
      "outputs": []
    },
    {
      "cell_type": "code",
      "source": [
        "# 16) Explain Flask’s url_for() function\n",
        "\n",
        "\"\"\"\n",
        "Flask's url_for() function generates dynamic URLs for routes based on their endpoint names.\n",
        "Prevents hardcoding URLs, making apps more maintainable.\n",
        "Supports variable parameters for dynamic routing.\n",
        "Helps redirect users efficiently.\n",
        "\n",
        "from flask import Flask, url_for\n",
        "\n",
        "app = Flask(__name__)\n",
        "\n",
        "@app.route('/profile/<username>')\n",
        "def profile(username):\n",
        "    return f\"Profile of {username}\"\n",
        "\n",
        "with app.test_request_context():\n",
        "    print(url_for('profile', username='Madhuri'))\n",
        "\n",
        "\"\"\""
      ],
      "metadata": {
        "id": "rY2ZX7Vo4Hv1"
      },
      "execution_count": null,
      "outputs": []
    },
    {
      "cell_type": "code",
      "source": [
        "# 17) How does Flask handle static files (CSS, JavaScript, etc.)\n",
        "\n",
        "\"\"\"\n",
        "Flask serves static files (CSS, JavaScript, images) from the static/ folder.\n",
        "Access files using /static/filename.\n",
        "Use url_for('static', filename='style.css') to reference assets dynamically.\n",
        "Place static files inside static/ for Flask to detect them.\n",
        "\n",
        "\"\"\""
      ],
      "metadata": {
        "id": "7euG6pNz4d2U"
      },
      "execution_count": null,
      "outputs": []
    },
    {
      "cell_type": "code",
      "source": [
        "# 18) What is an API specification, and how does it help in building a Flask API\n",
        "\n",
        "\"\"\"\n",
        "An API specification defines how an API should work, including its endpoints,\n",
        "request/response formats, authentication, and error handling.\n",
        "Helps maintain consistency across teams.\n",
        "Ensures predictability for API consumers.\n",
        "Allows automatic documentation (e.g., OpenAPI).\n",
        "Supports code generation for clients and servers.\n",
        "\n",
        "\"\"\""
      ],
      "metadata": {
        "id": "ulAGx0KV4sYF"
      },
      "execution_count": 2,
      "outputs": []
    },
    {
      "cell_type": "code",
      "source": [
        "# 19) What are HTTP status codes, and why are they important in a Flask API\n",
        "\n",
        "\"\"\"\n",
        "HTTP status codes are response codes that indicate the outcome of an API request.\n",
        "\n",
        "1xx (Informational) – Request received, processing continues.\n",
        "2xx (Success) – Request was successfully handled (200 OK, 201 Created).\n",
        "3xx (Redirection) – Further action needed (301 Moved Permanently).\n",
        "4xx (Client Errors) – Issue with request (400 Bad Request, 404 Not Found).\n",
        "5xx (Server Errors) – Server failed to process request (500 Internal Server Error).\n",
        "\n",
        "from flask import Flask, jsonify\n",
        "\n",
        "app = Flask(__name__)\n",
        "\n",
        "@app.route('/resource')\n",
        "def get_resource():\n",
        "    return jsonify({\"message\": \"Data found\"}), 200  # Sets HTTP status\n",
        "\n",
        "@app.errorhandler(404)\n",
        "def not_found(error):\n",
        "    return jsonify({\"error\": \"Not found\"}), 404\n",
        "\n",
        "\"\"\""
      ],
      "metadata": {
        "id": "RmY9N-Q74xpB"
      },
      "execution_count": null,
      "outputs": []
    },
    {
      "cell_type": "code",
      "source": [
        "# 20) How do you handle POST requests in Flask?\n",
        "\n",
        "\"\"\"\n",
        "In Flask, POST requests allow clients to send data to the server.\n",
        "Use @app.route('/endpoint', methods=['POST']) to define a POST route.\n",
        "Access sent data using request.form (for form data) or request.json (for JSON).\n",
        "Return a response using jsonify().\n",
        "\n",
        "from flask import Flask, request, jsonify\n",
        "\n",
        "app = Flask(__name__)\n",
        "\n",
        "@app.route('/submit', methods=['POST'])\n",
        "def submit_data():\n",
        "    data = request.json\n",
        "    return jsonify({\"message\": \"Data received\", \"data\": data}), 201\n",
        "\"\"\""
      ],
      "metadata": {
        "id": "NUdAhtls5XN1"
      },
      "execution_count": null,
      "outputs": []
    },
    {
      "cell_type": "code",
      "source": [
        "# 21)  How would you secure a Flask API?\n",
        "\n",
        "\"\"\"\n",
        "To secure a Flask API, implement these measures:\n",
        "\n",
        "Use authentication (JWT, OAuth, API keys).\n",
        "Validate input to prevent SQL injection & XSS.\n",
        "Enable HTTPS for encrypted data transfer.\n",
        "Rate-limit requests to prevent abuse.\n",
        "Use Flask-CORS for secure cross-origin access.\n",
        "Log and monitor API activity for suspicious behavior.\n",
        "\n",
        "\"\"\""
      ],
      "metadata": {
        "id": "c6mrbPFt5mTm"
      },
      "execution_count": null,
      "outputs": []
    },
    {
      "cell_type": "code",
      "source": [
        "# 22) What is the significance of the Flask-RESTful extension?\n",
        "\n",
        "\"\"\"\n",
        "Flask-RESTful simplifies creating REST APIs in Flask by providing useful tools.\n",
        "Supports class-based views for better organization.\n",
        "Handles request parsing and input validation easily.\n",
        "Integrates automated error handling.\n",
        "Works with JSON responses out of the box.\n",
        "\n",
        "\"\"\""
      ],
      "metadata": {
        "id": "aCifVxos5x6c"
      },
      "execution_count": null,
      "outputs": []
    },
    {
      "cell_type": "code",
      "source": [
        "# 23) What is the role of Flask’s session object?\n",
        "\n",
        "\"\"\"\n",
        "Flask's session object stores user-specific data across multiple requests.\n",
        "Uses signed cookies for temporary data storage.\n",
        "Helps maintain state in stateless web apps.\n",
        "Supports user authentication and preferences.\n",
        "Secured with Flask’s SECRET_KEY to prevent tampering.\n",
        "\n",
        "\"\"\""
      ],
      "metadata": {
        "id": "1OsogV_W59Dt"
      },
      "execution_count": null,
      "outputs": []
    },
    {
      "cell_type": "markdown",
      "source": [
        "Restful API and Flask - Practical"
      ],
      "metadata": {
        "id": "cwpVoPGs6KW1"
      }
    },
    {
      "cell_type": "code",
      "source": [
        "# 1)  How do you create a basic Flask application?\n",
        "\n",
        "from flask import Flask\n",
        "\n",
        "app = Flask(__name__)\n",
        "\n",
        "@app.route('/')\n",
        "def home():\n",
        "    return \"Hello, Flask!\"\n",
        "\n",
        "if __name__ == '__main__':\n",
        "    app.run(debug=True)\n"
      ],
      "metadata": {
        "id": "F3S41RDo6NwM"
      },
      "execution_count": null,
      "outputs": []
    },
    {
      "cell_type": "code",
      "source": [
        "# 2) How do you serve static files like images or CSS in Flask\n",
        "\n",
        "from flask import Flask, send_from_directory\n",
        "\n",
        "app = Flask(__name__, static_folder='static')\n",
        "\n",
        "@app.route('/static/<path:filename>')\n",
        "def serve_static(filename):\n",
        "    return send_from_directory(app.static_folder, filename)\n",
        "\n",
        "if __name__ == '__main__':\n",
        "    app.run(debug=True)\n",
        "\n"
      ],
      "metadata": {
        "id": "y4H2BE9K6amV"
      },
      "execution_count": null,
      "outputs": []
    },
    {
      "cell_type": "code",
      "source": [
        "# 3) How do you define different routes with different HTTP methods in Flask\n",
        "\n",
        "from flask import Flask, request\n",
        "\n",
        "app = Flask(__name__)\n",
        "\n",
        "@app.route('/example', methods=['GET', 'POST'])\n",
        "def handle_request():\n",
        "    if request.method == 'GET':\n",
        "        return \"Handling GET request\"\n",
        "    elif request.method == 'POST':\n",
        "        return \"Handling POST request\"\n",
        "\n",
        "if __name__ == '__main__':\n",
        "    app.run(debug=True)\n"
      ],
      "metadata": {
        "id": "lPF6qmh-6ydd"
      },
      "execution_count": null,
      "outputs": []
    },
    {
      "cell_type": "code",
      "source": [
        "# 4) How do you render HTML templates in Flask\n",
        "\n",
        "from flask import Flask, render_template\n",
        "\n",
        "app = Flask(__name__)\n",
        "\n",
        "@app.route('/')\n",
        "def home():\n",
        "    return render_template('index.html')\n",
        "\n",
        "if __name__ == '__main__':\n",
        "    app.run(debug=True)\n",
        "\n"
      ],
      "metadata": {
        "id": "ATscvRQv7Bgk"
      },
      "execution_count": null,
      "outputs": []
    },
    {
      "cell_type": "code",
      "source": [
        "# 5) How can you generate URLs for routes in Flask using url_for\n",
        "\n",
        "from flask import Flask, url_for\n",
        "\n",
        "app = Flask(__name__)\n",
        "\n",
        "@app.route('/profile/<username>')\n",
        "def profile(username):\n",
        "    return f\"Profile of {username}\"\n",
        "\n",
        "with app.test_request_context():\n",
        "    print(url_for('profile', username='Madhuri'))\n",
        "\n",
        "\"\"\"\n",
        "# the above one Generates URL: /profile/Madhuri\n",
        "\"\"\"\n",
        "\n",
        "if __name__ == '__main__':\n",
        "    app.run(debug=True)\n"
      ],
      "metadata": {
        "id": "T_rw8RHg7HNt"
      },
      "execution_count": null,
      "outputs": []
    },
    {
      "cell_type": "code",
      "source": [
        "# 6) How do you handle forms in Flask\n",
        "\n",
        "from flask import Flask, render_template, request\n",
        "\n",
        "app = Flask(__name__)\n",
        "\n",
        "@app.route('/form', methods=['GET', 'POST'])\n",
        "def handle_form():\n",
        "    if request.method == 'POST':\n",
        "        name = request.form.get('name')\n",
        "        return f\"Hello, {name}!\"\n",
        "    return render_template('form.html')\n",
        "\n",
        "if __name__ == '__main__':\n",
        "    app.run(debug=True)\n"
      ],
      "metadata": {
        "id": "xJDP65cu7Vkt"
      },
      "execution_count": null,
      "outputs": []
    },
    {
      "cell_type": "code",
      "source": [
        "# 7) How can you validate form data in Flask?\n",
        "\n",
        "from flask import Flask, request\n",
        "from wtforms import Form, StringField, validators\n",
        "\n",
        "app = Flask(__name__)\n",
        "\n",
        "class MyForm(Form):\n",
        "    name = StringField('Name', [validators.Length(min=3, max=50), validators.DataRequired()])\n",
        "\n",
        "@app.route('/validate', methods=['POST'])\n",
        "def validate_form():\n",
        "    form = MyForm(request.form)\n",
        "    if form.validate():\n",
        "        return f\"Valid data: {form.name.data}\"\n",
        "    return \"Invalid data\"\n",
        "\n",
        "if __name__ == '__main__':\n",
        "    app.run(debug=True)\n",
        "\n"
      ],
      "metadata": {
        "id": "lLemWiUx7gw9"
      },
      "execution_count": null,
      "outputs": []
    },
    {
      "cell_type": "code",
      "source": [
        "# 8) How do you manage sessions in Flask\n",
        "\n",
        "from flask import Flask, session\n",
        "\n",
        "app = Flask(__name__)\n",
        "app.secret_key = 'your_secret_key'  # Required for session security\n",
        "\n",
        "@app.route('/set_session')\n",
        "def set_session():\n",
        "    session['username'] = 'Madhuri'\n",
        "    return \"Session set!\"\n",
        "\n",
        "@app.route('/get_session')\n",
        "def get_session():\n",
        "    return f\"Username: {session.get('username', 'Not set')}\"\n",
        "\n",
        "@app.route('/clear_session')\n",
        "def clear_session():\n",
        "    session.pop('username', None)\n",
        "    return \"Session cleared!\"\n",
        "\n",
        "if __name__ == '__main__':\n",
        "    app.run(debug=True)\n"
      ],
      "metadata": {
        "id": "DOAsDrm87rJF"
      },
      "execution_count": null,
      "outputs": []
    },
    {
      "cell_type": "code",
      "source": [
        "# 9) How do you redirect to a different route in Flask\n",
        "\n",
        "from flask import Flask, redirect, url_for\n",
        "\n",
        "app = Flask(__name__)\n",
        "\n",
        "@app.route('/')\n",
        "def home():\n",
        "    return \"Welcome to Home Page\"\n",
        "\n",
        "@app.route('/redirect-example')\n",
        "def redirect_example():\n",
        "    return redirect(url_for('home'))  # Redirects to the home route\n",
        "\n",
        "if __name__ == '__main__':\n",
        "    app.run(debug=True)\n"
      ],
      "metadata": {
        "id": "wI3rJFZb7xG-"
      },
      "execution_count": null,
      "outputs": []
    },
    {
      "cell_type": "code",
      "source": [
        "# 10)  How do you handle errors in Flask (e.g., 404)\n",
        "\n",
        "from flask import Flask, jsonify\n",
        "\n",
        "app = Flask(__name__)\n",
        "\n",
        "@app.errorhandler(404)\n",
        "def not_found(error):\n",
        "    return jsonify({\"error\": \"Page not found\"}), 404\n",
        "\n",
        "@app.errorhandler(500)\n",
        "def internal_error(error):\n",
        "    return jsonify({\"error\": \"Internal server error\"}), 500\n",
        "\n",
        "if __name__ == '__main__':\n",
        "    app.run(debug=True)\n",
        "\n"
      ],
      "metadata": {
        "id": "P-dOrmVr72m-"
      },
      "execution_count": null,
      "outputs": []
    },
    {
      "cell_type": "code",
      "source": [
        "# 11)  How do you structure a Flask app using Blueprints\n",
        "\n",
        "from flask import Flask\n",
        "from app.routes import blueprint  # Import Blueprint\n",
        "\n",
        "app = Flask(__name__)\n",
        "app.register_blueprint(blueprint)  # Register Blueprint\n",
        "\n",
        "if __name__ == '__main__':\n",
        "    app.run(debug=True)\n",
        "\n",
        "# Inside app/routes.py:\n",
        "\n",
        "from flask import Blueprint\n",
        "\n",
        "blueprint = Blueprint('my_blueprint', __name__)\n",
        "\n",
        "@blueprint.route('/hello')\n",
        "def hello():\n",
        "    return \"Hello from Blueprint!\"\n",
        "\n",
        "\n"
      ],
      "metadata": {
        "id": "mc1XsdGz777d"
      },
      "execution_count": null,
      "outputs": []
    },
    {
      "cell_type": "code",
      "source": [
        "# 12) How do you define a custom Jinja filter in Flask\n",
        "\n",
        "from flask import Flask\n",
        "from jinja2 import Environment, FileSystemLoader\n",
        "\n",
        "app = Flask(__name__)\n",
        "\n",
        "# Define custom filter\n",
        "def reverse_string(s):\n",
        "    return s[::-1]\n",
        "\n",
        "# Register filter with Flask's Jinja environment\n",
        "app.jinja_env.filters['reverse'] = reverse_string\n",
        "\n",
        "@app.route('/')\n",
        "def index():\n",
        "    return f\"Reversed: {{ 'Madhuri' | reverse }}\"  # Example usage in template\n",
        "\n",
        "if __name__ == '__main__':\n",
        "    app.run(debug=True)\n"
      ],
      "metadata": {
        "id": "PSGSprFt8Dz1"
      },
      "execution_count": null,
      "outputs": []
    },
    {
      "cell_type": "code",
      "source": [
        "# 13)  How can you redirect with query parameters in Flask\n",
        "\n",
        "from flask import Flask, redirect, url_for, request\n",
        "\n",
        "app = Flask(__name__)\n",
        "\n",
        "@app.route('/redirect-example')\n",
        "def redirect_example():\n",
        "    return redirect(url_for('destination', name='Madhuri', age=25))\n",
        "\n",
        "@app.route('/destination')\n",
        "def destination():\n",
        "    name = request.args.get('name')\n",
        "    age = request.args.get('age')\n",
        "    return f\"Name: {name}, Age: {age}\"\n",
        "\n",
        "if __name__ == '__main__':\n",
        "    app.run(debug=True)\n"
      ],
      "metadata": {
        "id": "1c4fHI0H8QpE"
      },
      "execution_count": null,
      "outputs": []
    },
    {
      "cell_type": "code",
      "source": [
        "# 14) How do you return JSON responses in Flask\n",
        "\n",
        "from flask import Flask, jsonify\n",
        "\n",
        "app = Flask(__name__)\n",
        "\n",
        "@app.route('/json')\n",
        "def json_response():\n",
        "    return jsonify({\"message\": \"Hello, Flask!\", \"status\": \"success\"})\n",
        "\n",
        "if __name__ == '__main__':\n",
        "    app.run(debug=True)\n",
        "\n"
      ],
      "metadata": {
        "id": "_GHMOIWF8Vhe"
      },
      "execution_count": null,
      "outputs": []
    },
    {
      "cell_type": "code",
      "source": [
        "# 15) How do you capture URL parameters in Flask?\n",
        "\n",
        "from flask import Flask, request\n",
        "\n",
        "app = Flask(__name__)\n",
        "\n",
        "@app.route('/user')\n",
        "def get_user():\n",
        "    name = request.args.get('name')  # Capture 'name' parameter from URL\n",
        "    age = request.args.get('age')  # Capture 'age' parameter from URL\n",
        "    return f\"Name: {name}, Age: {age}\"\n",
        "\n",
        "if __name__ == '__main__':\n",
        "    app.run(debug=True)\n"
      ],
      "metadata": {
        "id": "svBY_ubN8a53"
      },
      "execution_count": null,
      "outputs": []
    }
  ]
}